{
 "cells": [
  {
   "cell_type": "markdown",
   "source": [
    "# K-Nearest Neighbors -- Data Reduction and Imbalancy Analysis\n",
    "\n",
    "---\n",
    "<center>\n",
    "Authors:\n",
    "<ul>\n",
    "<li> Valentin Rieu </li>\n",
    "<li> Amgad Khalil </li>\n",
    "</ul>\n",
    "</center>\n",
    "\n",
    "---"
   ],
   "metadata": {
    "collapsed": false
   },
   "id": "473d62e866507e00"
  },
  {
   "cell_type": "markdown",
   "source": [
    "## Imports"
   ],
   "metadata": {
    "collapsed": false
   },
   "id": "be2908d999f98ac5"
  },
  {
   "cell_type": "code",
   "execution_count": 7,
   "id": "initial_id",
   "metadata": {
    "collapsed": true,
    "ExecuteTime": {
     "end_time": "2024-01-04T12:25:20.018904989Z",
     "start_time": "2024-01-04T12:25:20.006855504Z"
    }
   },
   "outputs": [],
   "source": [
    "import matplotlib.pyplot as plt\n",
    "import pandas as pd\n",
    "import numpy as np\n",
    "import sklearn\n",
    "import seaborn as sns\n",
    "from sklearn.model_selection import (train_test_split, cross_val_score)\n",
    "from sklearn.neighbors import KNeighborsClassifier\n",
    "from sklearn.metrics import accuracy_score, mean_squared_error, mean_absolute_error\n",
    "import warnings\n",
    "warnings.filterwarnings(action='ignore', category=FutureWarning)\n",
    "import os"
   ]
  },
  {
   "cell_type": "code",
   "execution_count": 8,
   "outputs": [
    {
     "data": {
      "text/plain": "['waveform', '.gitignore', '.git', '.idea', 'tex', 'code']"
     },
     "execution_count": 8,
     "metadata": {},
     "output_type": "execute_result"
    }
   ],
   "source": [
    "os.listdir()"
   ],
   "metadata": {
    "collapsed": false,
    "ExecuteTime": {
     "end_time": "2024-01-04T12:25:21.628985375Z",
     "start_time": "2024-01-04T12:25:21.606118445Z"
    }
   },
   "id": "828ae80c275227b4"
  },
  {
   "cell_type": "markdown",
   "source": [
    "## Initialization of dataset + training/testing set"
   ],
   "metadata": {
    "collapsed": false
   },
   "id": "35ad9082e831228"
  },
  {
   "cell_type": "code",
   "execution_count": 29,
   "outputs": [
    {
     "data": {
      "text/plain": "             attr1        attr2        attr3        attr4        attr5  \\\ncount  5000.000000  5000.000000  5000.000000  5000.000000  5000.000000   \nmean      0.005144     0.338746     0.672438     0.991610     1.310888   \nstd       1.010130     1.053657     1.187970     1.415239     1.678291   \nmin      -3.340000    -3.250000    -4.200000    -3.840000    -3.480000   \n25%      -0.680000    -0.372500    -0.150000    -0.020000     0.037500   \n50%       0.010000     0.340000     0.660000     0.940000     1.120000   \n75%       0.690000     1.050000     1.460000     1.970000     2.540000   \nmax       3.940000     3.880000     4.720000     5.750000     6.500000   \n\n             attr6        attr7        attr8        attr9       attr10  ...  \\\ncount  5000.000000  5000.000000  5000.000000  5000.000000  5000.000000  ...   \nmean      1.997306     2.661806     2.659228     2.672086     2.988668  ...   \nstd       1.814187     2.015774     1.746067     1.663277     1.531506  ...   \nmin      -2.760000    -3.320000    -3.520000    -3.380000    -1.790000  ...   \n25%       0.590000     1.110000     1.390000     1.470000     1.880000  ...   \n50%       1.860000     2.500000     2.720000     2.810000     3.000000  ...   \n75%       3.340000     4.210000     3.940000     3.940000     4.080000  ...   \nmax       7.620000     8.760000     7.840000     7.900000     7.630000  ...   \n\n            attr13       attr14       attr15       attr16       attr17  \\\ncount  5000.000000  5000.000000  5000.000000  5000.000000  5000.000000   \nmean      2.678908     2.648632     2.647668     2.000504     1.335032   \nstd       1.651588     1.760113     2.018768     1.810684     1.669949   \nmin      -2.610000    -2.820000    -2.560000    -2.990000    -3.560000   \n25%       1.480000     1.360000     1.120000     0.640000     0.070000   \n50%       2.830000     2.700000     2.490000     1.820000     1.200000   \n75%       3.932500     3.980000     4.182500     3.330000     2.532500   \nmax       7.500000     7.750000     8.720000     7.860000     6.740000   \n\n            attr18       attr19       attr20       attr21            c  \ncount  5000.000000  5000.000000  5000.000000  5000.000000  5000.000000  \nmean      1.000622     0.661482     0.357300    -0.021378     1.007800  \nstd       1.412815     1.197326     1.081337     0.997064     0.818946  \nmin      -4.080000    -3.500000    -3.570000    -3.880000     0.000000  \n25%      -0.010000    -0.180000    -0.350000    -0.690000     0.000000  \n50%       0.940000     0.620000     0.350000    -0.030000     1.000000  \n75%       1.960000     1.470000     1.072500     0.660000     2.000000  \nmax       6.200000     5.280000     4.650000     4.010000     2.000000  \n\n[8 rows x 22 columns]",
      "text/html": "<div>\n<style scoped>\n    .dataframe tbody tr th:only-of-type {\n        vertical-align: middle;\n    }\n\n    .dataframe tbody tr th {\n        vertical-align: top;\n    }\n\n    .dataframe thead th {\n        text-align: right;\n    }\n</style>\n<table border=\"1\" class=\"dataframe\">\n  <thead>\n    <tr style=\"text-align: right;\">\n      <th></th>\n      <th>attr1</th>\n      <th>attr2</th>\n      <th>attr3</th>\n      <th>attr4</th>\n      <th>attr5</th>\n      <th>attr6</th>\n      <th>attr7</th>\n      <th>attr8</th>\n      <th>attr9</th>\n      <th>attr10</th>\n      <th>...</th>\n      <th>attr13</th>\n      <th>attr14</th>\n      <th>attr15</th>\n      <th>attr16</th>\n      <th>attr17</th>\n      <th>attr18</th>\n      <th>attr19</th>\n      <th>attr20</th>\n      <th>attr21</th>\n      <th>c</th>\n    </tr>\n  </thead>\n  <tbody>\n    <tr>\n      <th>count</th>\n      <td>5000.000000</td>\n      <td>5000.000000</td>\n      <td>5000.000000</td>\n      <td>5000.000000</td>\n      <td>5000.000000</td>\n      <td>5000.000000</td>\n      <td>5000.000000</td>\n      <td>5000.000000</td>\n      <td>5000.000000</td>\n      <td>5000.000000</td>\n      <td>...</td>\n      <td>5000.000000</td>\n      <td>5000.000000</td>\n      <td>5000.000000</td>\n      <td>5000.000000</td>\n      <td>5000.000000</td>\n      <td>5000.000000</td>\n      <td>5000.000000</td>\n      <td>5000.000000</td>\n      <td>5000.000000</td>\n      <td>5000.000000</td>\n    </tr>\n    <tr>\n      <th>mean</th>\n      <td>0.005144</td>\n      <td>0.338746</td>\n      <td>0.672438</td>\n      <td>0.991610</td>\n      <td>1.310888</td>\n      <td>1.997306</td>\n      <td>2.661806</td>\n      <td>2.659228</td>\n      <td>2.672086</td>\n      <td>2.988668</td>\n      <td>...</td>\n      <td>2.678908</td>\n      <td>2.648632</td>\n      <td>2.647668</td>\n      <td>2.000504</td>\n      <td>1.335032</td>\n      <td>1.000622</td>\n      <td>0.661482</td>\n      <td>0.357300</td>\n      <td>-0.021378</td>\n      <td>1.007800</td>\n    </tr>\n    <tr>\n      <th>std</th>\n      <td>1.010130</td>\n      <td>1.053657</td>\n      <td>1.187970</td>\n      <td>1.415239</td>\n      <td>1.678291</td>\n      <td>1.814187</td>\n      <td>2.015774</td>\n      <td>1.746067</td>\n      <td>1.663277</td>\n      <td>1.531506</td>\n      <td>...</td>\n      <td>1.651588</td>\n      <td>1.760113</td>\n      <td>2.018768</td>\n      <td>1.810684</td>\n      <td>1.669949</td>\n      <td>1.412815</td>\n      <td>1.197326</td>\n      <td>1.081337</td>\n      <td>0.997064</td>\n      <td>0.818946</td>\n    </tr>\n    <tr>\n      <th>min</th>\n      <td>-3.340000</td>\n      <td>-3.250000</td>\n      <td>-4.200000</td>\n      <td>-3.840000</td>\n      <td>-3.480000</td>\n      <td>-2.760000</td>\n      <td>-3.320000</td>\n      <td>-3.520000</td>\n      <td>-3.380000</td>\n      <td>-1.790000</td>\n      <td>...</td>\n      <td>-2.610000</td>\n      <td>-2.820000</td>\n      <td>-2.560000</td>\n      <td>-2.990000</td>\n      <td>-3.560000</td>\n      <td>-4.080000</td>\n      <td>-3.500000</td>\n      <td>-3.570000</td>\n      <td>-3.880000</td>\n      <td>0.000000</td>\n    </tr>\n    <tr>\n      <th>25%</th>\n      <td>-0.680000</td>\n      <td>-0.372500</td>\n      <td>-0.150000</td>\n      <td>-0.020000</td>\n      <td>0.037500</td>\n      <td>0.590000</td>\n      <td>1.110000</td>\n      <td>1.390000</td>\n      <td>1.470000</td>\n      <td>1.880000</td>\n      <td>...</td>\n      <td>1.480000</td>\n      <td>1.360000</td>\n      <td>1.120000</td>\n      <td>0.640000</td>\n      <td>0.070000</td>\n      <td>-0.010000</td>\n      <td>-0.180000</td>\n      <td>-0.350000</td>\n      <td>-0.690000</td>\n      <td>0.000000</td>\n    </tr>\n    <tr>\n      <th>50%</th>\n      <td>0.010000</td>\n      <td>0.340000</td>\n      <td>0.660000</td>\n      <td>0.940000</td>\n      <td>1.120000</td>\n      <td>1.860000</td>\n      <td>2.500000</td>\n      <td>2.720000</td>\n      <td>2.810000</td>\n      <td>3.000000</td>\n      <td>...</td>\n      <td>2.830000</td>\n      <td>2.700000</td>\n      <td>2.490000</td>\n      <td>1.820000</td>\n      <td>1.200000</td>\n      <td>0.940000</td>\n      <td>0.620000</td>\n      <td>0.350000</td>\n      <td>-0.030000</td>\n      <td>1.000000</td>\n    </tr>\n    <tr>\n      <th>75%</th>\n      <td>0.690000</td>\n      <td>1.050000</td>\n      <td>1.460000</td>\n      <td>1.970000</td>\n      <td>2.540000</td>\n      <td>3.340000</td>\n      <td>4.210000</td>\n      <td>3.940000</td>\n      <td>3.940000</td>\n      <td>4.080000</td>\n      <td>...</td>\n      <td>3.932500</td>\n      <td>3.980000</td>\n      <td>4.182500</td>\n      <td>3.330000</td>\n      <td>2.532500</td>\n      <td>1.960000</td>\n      <td>1.470000</td>\n      <td>1.072500</td>\n      <td>0.660000</td>\n      <td>2.000000</td>\n    </tr>\n    <tr>\n      <th>max</th>\n      <td>3.940000</td>\n      <td>3.880000</td>\n      <td>4.720000</td>\n      <td>5.750000</td>\n      <td>6.500000</td>\n      <td>7.620000</td>\n      <td>8.760000</td>\n      <td>7.840000</td>\n      <td>7.900000</td>\n      <td>7.630000</td>\n      <td>...</td>\n      <td>7.500000</td>\n      <td>7.750000</td>\n      <td>8.720000</td>\n      <td>7.860000</td>\n      <td>6.740000</td>\n      <td>6.200000</td>\n      <td>5.280000</td>\n      <td>4.650000</td>\n      <td>4.010000</td>\n      <td>2.000000</td>\n    </tr>\n  </tbody>\n</table>\n<p>8 rows × 22 columns</p>\n</div>"
     },
     "execution_count": 29,
     "metadata": {},
     "output_type": "execute_result"
    }
   ],
   "source": [
    "n_features = 21\n",
    "features = [f'attr{str(i)}' for i in range(1, n_features + 1)]\n",
    "features.append('c')\n",
    "ds = pd.read_csv('waveform/waveform.data', names=features)\n",
    "\n",
    "ds.describe()"
   ],
   "metadata": {
    "collapsed": false,
    "ExecuteTime": {
     "end_time": "2024-01-04T12:34:06.295078958Z",
     "start_time": "2024-01-04T12:34:06.239096563Z"
    }
   },
   "id": "95b0d12bad3d86fd"
  },
  {
   "cell_type": "code",
   "execution_count": 13,
   "outputs": [
    {
     "name": "stdout",
     "output_type": "stream",
     "text": [
      "<class 'pandas.core.frame.DataFrame'>\n",
      "RangeIndex: 5000 entries, 0 to 4999\n",
      "Data columns (total 22 columns):\n",
      " #   Column  Non-Null Count  Dtype  \n",
      "---  ------  --------------  -----  \n",
      " 0   attr1   5000 non-null   float64\n",
      " 1   attr2   5000 non-null   float64\n",
      " 2   attr3   5000 non-null   float64\n",
      " 3   attr4   5000 non-null   float64\n",
      " 4   attr5   5000 non-null   float64\n",
      " 5   attr6   5000 non-null   float64\n",
      " 6   attr7   5000 non-null   float64\n",
      " 7   attr8   5000 non-null   float64\n",
      " 8   attr9   5000 non-null   float64\n",
      " 9   attr10  5000 non-null   float64\n",
      " 10  attr11  5000 non-null   float64\n",
      " 11  attr12  5000 non-null   float64\n",
      " 12  attr13  5000 non-null   float64\n",
      " 13  attr14  5000 non-null   float64\n",
      " 14  attr15  5000 non-null   float64\n",
      " 15  attr16  5000 non-null   float64\n",
      " 16  attr17  5000 non-null   float64\n",
      " 17  attr18  5000 non-null   float64\n",
      " 18  attr19  5000 non-null   float64\n",
      " 19  attr20  5000 non-null   float64\n",
      " 20  attr21  5000 non-null   float64\n",
      " 21  c       5000 non-null   int64  \n",
      "dtypes: float64(21), int64(1)\n",
      "memory usage: 859.5 KB\n"
     ]
    }
   ],
   "source": [
    "ds.info()"
   ],
   "metadata": {
    "collapsed": false,
    "ExecuteTime": {
     "end_time": "2024-01-04T12:26:57.063085651Z",
     "start_time": "2024-01-04T12:26:57.016453792Z"
    }
   },
   "id": "b650c7a302ed88bd"
  },
  {
   "cell_type": "markdown",
   "source": [
    "We can notice that the dataset is already clean: no `NaN` values"
   ],
   "metadata": {
    "collapsed": false
   },
   "id": "f564539930c41ae3"
  },
  {
   "cell_type": "code",
   "execution_count": 20,
   "outputs": [
    {
     "data": {
      "text/plain": "[]"
     },
     "execution_count": 20,
     "metadata": {},
     "output_type": "execute_result"
    },
    {
     "data": {
      "text/plain": "<Figure size 640x480 with 1 Axes>",
      "image/png": "[encoded data removed]"
     },
     "metadata": {},
     "output_type": "display_data"
    }
   ],
   "source": [
    "ds['c'].value_counts(normalize=True).plot(kind='bar')\n",
    "plt.ylabel('Repartition of the labels')\n",
    "plt.plot()"
   ],
   "metadata": {
    "collapsed": false,
    "ExecuteTime": {
     "end_time": "2024-01-04T12:31:00.099434011Z",
     "start_time": "2024-01-04T12:30:59.955656665Z"
    }
   },
   "id": "f9ac2ea910916d6f"
  },
  {
   "cell_type": "code",
   "execution_count": 33,
   "outputs": [],
   "source": [
    "y = ds['c'].copy()\n",
    "X = ds.iloc[:, :n_features].copy()"
   ],
   "metadata": {
    "collapsed": false,
    "ExecuteTime": {
     "end_time": "2024-01-04T12:34:53.967155580Z",
     "start_time": "2024-01-04T12:34:53.957664193Z"
    }
   },
   "id": "b47a72bfda1e045d"
  },
  {
   "cell_type": "markdown",
   "source": [
    "We will split training data and test data now, to avoid overfitting and bias. Ratio 4:1 for the training set\n",
    "\n",
    "Undersampling methods (such as the CNN) will be only performed on the training set. While dimensionality reducing methods\n",
    "such as PCAs would need to perform a PCA on the training set and only do the corresponding transformation on the test set.\n",
    "\n",
    "the test set will be left untouched and unused until the end of the transformation pipeline"
   ],
   "metadata": {
    "collapsed": false
   },
   "id": "f6cc3a4b36895be0"
  },
  {
   "cell_type": "code",
   "execution_count": 34,
   "outputs": [],
   "source": [
    "X_train, X_test, y_train, y_test = train_test_split(X, y, test_size=0.2, random_state=42) # A static random state for troubleshooting"
   ],
   "metadata": {
    "collapsed": false,
    "ExecuteTime": {
     "end_time": "2024-01-04T12:44:03.407563223Z",
     "start_time": "2024-01-04T12:44:03.359436106Z"
    }
   },
   "id": "72ded498eb6625ff"
  },
  {
   "cell_type": "markdown",
   "source": [
    "We will make a copy of the training set for the various modification we will perform, to then perform analysis over them\n",
    "It will be as follows:\n",
    "\n",
    "- `train_control`: no data reduction, no oversampling\n",
    "- `train_cond`: training set modified by the Condensed Nearest Neighbor\n",
    "- `train_imb`: training set with generated imbalancy,\n",
    "- `train_imb_cond`: training set with generated imbalancy, modified by the CNN"
   ],
   "metadata": {
    "collapsed": false
   },
   "id": "ff53a3039344b46d"
  },
  {
   "cell_type": "code",
   "execution_count": 37,
   "outputs": [],
   "source": [
    "X_train_control, y_train_control = X_train.copy(), y_train.copy()\n",
    "X_train_cond, y_train_cond = X_train.copy(), y_train.copy()\n",
    "X_train_imb, y_train_imb = X_train.copy(), y_train.copy()\n",
    "X_train_imb_cond, y_train_imb_cond = X_train.copy(), y_train.copy()"
   ],
   "metadata": {
    "collapsed": false,
    "ExecuteTime": {
     "end_time": "2024-01-04T12:54:22.279620494Z",
     "start_time": "2024-01-04T12:54:22.264390362Z"
    }
   },
   "id": "e0c5b4066d23f5a7"
  },
  {
   "cell_type": "markdown",
   "source": [
    "---\n",
    "\n",
    "Organization of the tasks:\n",
    "\n",
    "1. Perform Data Reduction (Reduced NN, Condensed NN),\n",
    "2. Comparizon between the original dataset and the condensed dataset with a 1NN\n",
    "3. Compare on the original dataset the time taken to fit and predict a 1NN using speed-up methods\n",
    "4. Generate imbalancy, analyze the impact of the imbalancy and the impact of using a CNN on an imbalanced dataset"
   ],
   "metadata": {
    "collapsed": false
   },
   "id": "4169070710c5e24c"
  }
 ],
 "metadata": {
  "kernelspec": {
   "display_name": "Python 3",
   "language": "python",
   "name": "python3"
  },
  "language_info": {
   "codemirror_mode": {
    "name": "ipython",
    "version": 2
   },
   "file_extension": ".py",
   "mimetype": "text/x-python",
   "name": "python",
   "nbconvert_exporter": "python",
   "pygments_lexer": "ipython2",
   "version": "2.7.6"
  }
 },
 "nbformat": 4,
 "nbformat_minor": 5
}
