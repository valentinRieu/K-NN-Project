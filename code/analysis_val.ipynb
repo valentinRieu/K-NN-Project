{
 "cells": [
  {
   "cell_type": "markdown",
   "source": [
    "# Imports"
   ],
   "metadata": {
    "collapsed": false
   },
   "id": "d9966a79f0112eac"
  },
  {
   "cell_type": "code",
   "execution_count": 1,
   "id": "initial_id",
   "metadata": {
    "collapsed": true,
    "ExecuteTime": {
     "end_time": "2023-12-18T16:36:05.876029896Z",
     "start_time": "2023-12-18T16:36:05.117098713Z"
    }
   },
   "outputs": [],
   "source": [
    "import matplotlib.pyplot as plt\n",
    "import pandas as pd\n",
    "import numpy as np\n",
    "import sklearn"
   ]
  },
  {
   "cell_type": "code",
   "execution_count": 20,
   "outputs": [
    {
     "data": {
      "text/plain": "             attr1        attr2        attr3        attr4        attr5  \\\ncount  5000.000000  5000.000000  5000.000000  5000.000000  5000.000000   \nmean      0.005144     0.338746     0.672438     0.991610     1.310888   \nstd       1.010130     1.053657     1.187970     1.415239     1.678291   \nmin      -3.340000    -3.250000    -4.200000    -3.840000    -3.480000   \n25%      -0.680000    -0.372500    -0.150000    -0.020000     0.037500   \n50%       0.010000     0.340000     0.660000     0.940000     1.120000   \n75%       0.690000     1.050000     1.460000     1.970000     2.540000   \nmax       3.940000     3.880000     4.720000     5.750000     6.500000   \n\n             attr6        attr7        attr8        attr9       attr10  ...  \\\ncount  5000.000000  5000.000000  5000.000000  5000.000000  5000.000000  ...   \nmean      1.997306     2.661806     2.659228     2.672086     2.988668  ...   \nstd       1.814187     2.015774     1.746067     1.663277     1.531506  ...   \nmin      -2.760000    -3.320000    -3.520000    -3.380000    -1.790000  ...   \n25%       0.590000     1.110000     1.390000     1.470000     1.880000  ...   \n50%       1.860000     2.500000     2.720000     2.810000     3.000000  ...   \n75%       3.340000     4.210000     3.940000     3.940000     4.080000  ...   \nmax       7.620000     8.760000     7.840000     7.900000     7.630000  ...   \n\n            attr13       attr14       attr15       attr16       attr17  \\\ncount  5000.000000  5000.000000  5000.000000  5000.000000  5000.000000   \nmean      2.678908     2.648632     2.647668     2.000504     1.335032   \nstd       1.651588     1.760113     2.018768     1.810684     1.669949   \nmin      -2.610000    -2.820000    -2.560000    -2.990000    -3.560000   \n25%       1.480000     1.360000     1.120000     0.640000     0.070000   \n50%       2.830000     2.700000     2.490000     1.820000     1.200000   \n75%       3.932500     3.980000     4.182500     3.330000     2.532500   \nmax       7.500000     7.750000     8.720000     7.860000     6.740000   \n\n            attr18       attr19       attr20       attr21       attr22  \ncount  5000.000000  5000.000000  5000.000000  5000.000000  5000.000000  \nmean      1.000622     0.661482     0.357300    -0.021378     1.007800  \nstd       1.412815     1.197326     1.081337     0.997064     0.818946  \nmin      -4.080000    -3.500000    -3.570000    -3.880000     0.000000  \n25%      -0.010000    -0.180000    -0.350000    -0.690000     0.000000  \n50%       0.940000     0.620000     0.350000    -0.030000     1.000000  \n75%       1.960000     1.470000     1.072500     0.660000     2.000000  \nmax       6.200000     5.280000     4.650000     4.010000     2.000000  \n\n[8 rows x 22 columns]",
      "text/html": "<div>\n<style scoped>\n    .dataframe tbody tr th:only-of-type {\n        vertical-align: middle;\n    }\n\n    .dataframe tbody tr th {\n        vertical-align: top;\n    }\n\n    .dataframe thead th {\n        text-align: right;\n    }\n</style>\n<table border=\"1\" class=\"dataframe\">\n  <thead>\n    <tr style=\"text-align: right;\">\n      <th></th>\n      <th>attr1</th>\n      <th>attr2</th>\n      <th>attr3</th>\n      <th>attr4</th>\n      <th>attr5</th>\n      <th>attr6</th>\n      <th>attr7</th>\n      <th>attr8</th>\n      <th>attr9</th>\n      <th>attr10</th>\n      <th>...</th>\n      <th>attr13</th>\n      <th>attr14</th>\n      <th>attr15</th>\n      <th>attr16</th>\n      <th>attr17</th>\n      <th>attr18</th>\n      <th>attr19</th>\n      <th>attr20</th>\n      <th>attr21</th>\n      <th>attr22</th>\n    </tr>\n  </thead>\n  <tbody>\n    <tr>\n      <th>count</th>\n      <td>5000.000000</td>\n      <td>5000.000000</td>\n      <td>5000.000000</td>\n      <td>5000.000000</td>\n      <td>5000.000000</td>\n      <td>5000.000000</td>\n      <td>5000.000000</td>\n      <td>5000.000000</td>\n      <td>5000.000000</td>\n      <td>5000.000000</td>\n      <td>...</td>\n      <td>5000.000000</td>\n      <td>5000.000000</td>\n      <td>5000.000000</td>\n      <td>5000.000000</td>\n      <td>5000.000000</td>\n      <td>5000.000000</td>\n      <td>5000.000000</td>\n      <td>5000.000000</td>\n      <td>5000.000000</td>\n      <td>5000.000000</td>\n    </tr>\n    <tr>\n      <th>mean</th>\n      <td>0.005144</td>\n      <td>0.338746</td>\n      <td>0.672438</td>\n      <td>0.991610</td>\n      <td>1.310888</td>\n      <td>1.997306</td>\n      <td>2.661806</td>\n      <td>2.659228</td>\n      <td>2.672086</td>\n      <td>2.988668</td>\n      <td>...</td>\n      <td>2.678908</td>\n      <td>2.648632</td>\n      <td>2.647668</td>\n      <td>2.000504</td>\n      <td>1.335032</td>\n      <td>1.000622</td>\n      <td>0.661482</td>\n      <td>0.357300</td>\n      <td>-0.021378</td>\n      <td>1.007800</td>\n    </tr>\n    <tr>\n      <th>std</th>\n      <td>1.010130</td>\n      <td>1.053657</td>\n      <td>1.187970</td>\n      <td>1.415239</td>\n      <td>1.678291</td>\n      <td>1.814187</td>\n      <td>2.015774</td>\n      <td>1.746067</td>\n      <td>1.663277</td>\n      <td>1.531506</td>\n      <td>...</td>\n      <td>1.651588</td>\n      <td>1.760113</td>\n      <td>2.018768</td>\n      <td>1.810684</td>\n      <td>1.669949</td>\n      <td>1.412815</td>\n      <td>1.197326</td>\n      <td>1.081337</td>\n      <td>0.997064</td>\n      <td>0.818946</td>\n    </tr>\n    <tr>\n      <th>min</th>\n      <td>-3.340000</td>\n      <td>-3.250000</td>\n      <td>-4.200000</td>\n      <td>-3.840000</td>\n      <td>-3.480000</td>\n      <td>-2.760000</td>\n      <td>-3.320000</td>\n      <td>-3.520000</td>\n      <td>-3.380000</td>\n      <td>-1.790000</td>\n      <td>...</td>\n      <td>-2.610000</td>\n      <td>-2.820000</td>\n      <td>-2.560000</td>\n      <td>-2.990000</td>\n      <td>-3.560000</td>\n      <td>-4.080000</td>\n      <td>-3.500000</td>\n      <td>-3.570000</td>\n      <td>-3.880000</td>\n      <td>0.000000</td>\n    </tr>\n    <tr>\n      <th>25%</th>\n      <td>-0.680000</td>\n      <td>-0.372500</td>\n      <td>-0.150000</td>\n      <td>-0.020000</td>\n      <td>0.037500</td>\n      <td>0.590000</td>\n      <td>1.110000</td>\n      <td>1.390000</td>\n      <td>1.470000</td>\n      <td>1.880000</td>\n      <td>...</td>\n      <td>1.480000</td>\n      <td>1.360000</td>\n      <td>1.120000</td>\n      <td>0.640000</td>\n      <td>0.070000</td>\n      <td>-0.010000</td>\n      <td>-0.180000</td>\n      <td>-0.350000</td>\n      <td>-0.690000</td>\n      <td>0.000000</td>\n    </tr>\n    <tr>\n      <th>50%</th>\n      <td>0.010000</td>\n      <td>0.340000</td>\n      <td>0.660000</td>\n      <td>0.940000</td>\n      <td>1.120000</td>\n      <td>1.860000</td>\n      <td>2.500000</td>\n      <td>2.720000</td>\n      <td>2.810000</td>\n      <td>3.000000</td>\n      <td>...</td>\n      <td>2.830000</td>\n      <td>2.700000</td>\n      <td>2.490000</td>\n      <td>1.820000</td>\n      <td>1.200000</td>\n      <td>0.940000</td>\n      <td>0.620000</td>\n      <td>0.350000</td>\n      <td>-0.030000</td>\n      <td>1.000000</td>\n    </tr>\n    <tr>\n      <th>75%</th>\n      <td>0.690000</td>\n      <td>1.050000</td>\n      <td>1.460000</td>\n      <td>1.970000</td>\n      <td>2.540000</td>\n      <td>3.340000</td>\n      <td>4.210000</td>\n      <td>3.940000</td>\n      <td>3.940000</td>\n      <td>4.080000</td>\n      <td>...</td>\n      <td>3.932500</td>\n      <td>3.980000</td>\n      <td>4.182500</td>\n      <td>3.330000</td>\n      <td>2.532500</td>\n      <td>1.960000</td>\n      <td>1.470000</td>\n      <td>1.072500</td>\n      <td>0.660000</td>\n      <td>2.000000</td>\n    </tr>\n    <tr>\n      <th>max</th>\n      <td>3.940000</td>\n      <td>3.880000</td>\n      <td>4.720000</td>\n      <td>5.750000</td>\n      <td>6.500000</td>\n      <td>7.620000</td>\n      <td>8.760000</td>\n      <td>7.840000</td>\n      <td>7.900000</td>\n      <td>7.630000</td>\n      <td>...</td>\n      <td>7.500000</td>\n      <td>7.750000</td>\n      <td>8.720000</td>\n      <td>7.860000</td>\n      <td>6.740000</td>\n      <td>6.200000</td>\n      <td>5.280000</td>\n      <td>4.650000</td>\n      <td>4.010000</td>\n      <td>2.000000</td>\n    </tr>\n  </tbody>\n</table>\n<p>8 rows × 22 columns</p>\n</div>"
     },
     "execution_count": 20,
     "metadata": {},
     "output_type": "execute_result"
    }
   ],
   "source": [
    "n_features = 22\n",
    "\n",
    "features = ['attr' + str(i) for i in range(1, n_features + 1)]\n",
    "\n",
    "dataset = pd.read_csv('../waveform/waveform.data', names=features)\n",
    "\n",
    "dataset.describe()\n"
   ],
   "metadata": {
    "collapsed": false,
    "ExecuteTime": {
     "end_time": "2023-12-18T16:51:12.156845749Z",
     "start_time": "2023-12-18T16:51:12.088744858Z"
    }
   },
   "id": "cf076ee0214d91f"
  },
  {
   "cell_type": "code",
   "execution_count": 21,
   "outputs": [
    {
     "data": {
      "text/plain": "   attr1  attr2  attr3  attr4  attr5  attr6  attr7  attr8  attr9  attr10  ...  \\\n0  -1.23  -1.56  -1.75  -0.28   0.60   2.22   0.85   0.21  -0.20    0.89  ...   \n1  -0.69   2.43   0.61   2.08   2.30   3.25   5.52   4.55   2.97    2.22  ...   \n2  -0.12  -0.94   1.29   2.59   2.42   3.55   4.94   3.25   1.90    2.07  ...   \n3   0.86   0.29   2.19  -0.02   1.13   2.51   2.37   5.45   5.45    4.84  ...   \n4   1.16   0.37   0.40  -0.59   2.66   1.00   2.69   4.06   5.34    3.53  ...   \n\n   attr13  attr14  attr15  attr16  attr17  attr18  attr19  attr20  attr21  \\\n0    2.89    7.75    4.59    3.15    5.12    3.32    1.20    0.24   -0.56   \n1    1.24    1.89    1.88   -1.34    0.83    1.41    1.78    0.60    2.42   \n2    2.50    0.12    1.41    2.78    0.64    0.62   -0.01   -0.79   -0.12   \n3    2.58    1.40    1.24    1.41    1.07   -1.43    2.84   -1.18    1.12   \n4    4.30    1.84    1.73    0.21   -0.18    0.13   -0.21   -0.80   -0.68   \n\n   attr22  \n0       2  \n1       1  \n2       0  \n3       1  \n4       1  \n\n[5 rows x 22 columns]",
      "text/html": "<div>\n<style scoped>\n    .dataframe tbody tr th:only-of-type {\n        vertical-align: middle;\n    }\n\n    .dataframe tbody tr th {\n        vertical-align: top;\n    }\n\n    .dataframe thead th {\n        text-align: right;\n    }\n</style>\n<table border=\"1\" class=\"dataframe\">\n  <thead>\n    <tr style=\"text-align: right;\">\n      <th></th>\n      <th>attr1</th>\n      <th>attr2</th>\n      <th>attr3</th>\n      <th>attr4</th>\n      <th>attr5</th>\n      <th>attr6</th>\n      <th>attr7</th>\n      <th>attr8</th>\n      <th>attr9</th>\n      <th>attr10</th>\n      <th>...</th>\n      <th>attr13</th>\n      <th>attr14</th>\n      <th>attr15</th>\n      <th>attr16</th>\n      <th>attr17</th>\n      <th>attr18</th>\n      <th>attr19</th>\n      <th>attr20</th>\n      <th>attr21</th>\n      <th>attr22</th>\n    </tr>\n  </thead>\n  <tbody>\n    <tr>\n      <th>0</th>\n      <td>-1.23</td>\n      <td>-1.56</td>\n      <td>-1.75</td>\n      <td>-0.28</td>\n      <td>0.60</td>\n      <td>2.22</td>\n      <td>0.85</td>\n      <td>0.21</td>\n      <td>-0.20</td>\n      <td>0.89</td>\n      <td>...</td>\n      <td>2.89</td>\n      <td>7.75</td>\n      <td>4.59</td>\n      <td>3.15</td>\n      <td>5.12</td>\n      <td>3.32</td>\n      <td>1.20</td>\n      <td>0.24</td>\n      <td>-0.56</td>\n      <td>2</td>\n    </tr>\n    <tr>\n      <th>1</th>\n      <td>-0.69</td>\n      <td>2.43</td>\n      <td>0.61</td>\n      <td>2.08</td>\n      <td>2.30</td>\n      <td>3.25</td>\n      <td>5.52</td>\n      <td>4.55</td>\n      <td>2.97</td>\n      <td>2.22</td>\n      <td>...</td>\n      <td>1.24</td>\n      <td>1.89</td>\n      <td>1.88</td>\n      <td>-1.34</td>\n      <td>0.83</td>\n      <td>1.41</td>\n      <td>1.78</td>\n      <td>0.60</td>\n      <td>2.42</td>\n      <td>1</td>\n    </tr>\n    <tr>\n      <th>2</th>\n      <td>-0.12</td>\n      <td>-0.94</td>\n      <td>1.29</td>\n      <td>2.59</td>\n      <td>2.42</td>\n      <td>3.55</td>\n      <td>4.94</td>\n      <td>3.25</td>\n      <td>1.90</td>\n      <td>2.07</td>\n      <td>...</td>\n      <td>2.50</td>\n      <td>0.12</td>\n      <td>1.41</td>\n      <td>2.78</td>\n      <td>0.64</td>\n      <td>0.62</td>\n      <td>-0.01</td>\n      <td>-0.79</td>\n      <td>-0.12</td>\n      <td>0</td>\n    </tr>\n    <tr>\n      <th>3</th>\n      <td>0.86</td>\n      <td>0.29</td>\n      <td>2.19</td>\n      <td>-0.02</td>\n      <td>1.13</td>\n      <td>2.51</td>\n      <td>2.37</td>\n      <td>5.45</td>\n      <td>5.45</td>\n      <td>4.84</td>\n      <td>...</td>\n      <td>2.58</td>\n      <td>1.40</td>\n      <td>1.24</td>\n      <td>1.41</td>\n      <td>1.07</td>\n      <td>-1.43</td>\n      <td>2.84</td>\n      <td>-1.18</td>\n      <td>1.12</td>\n      <td>1</td>\n    </tr>\n    <tr>\n      <th>4</th>\n      <td>1.16</td>\n      <td>0.37</td>\n      <td>0.40</td>\n      <td>-0.59</td>\n      <td>2.66</td>\n      <td>1.00</td>\n      <td>2.69</td>\n      <td>4.06</td>\n      <td>5.34</td>\n      <td>3.53</td>\n      <td>...</td>\n      <td>4.30</td>\n      <td>1.84</td>\n      <td>1.73</td>\n      <td>0.21</td>\n      <td>-0.18</td>\n      <td>0.13</td>\n      <td>-0.21</td>\n      <td>-0.80</td>\n      <td>-0.68</td>\n      <td>1</td>\n    </tr>\n  </tbody>\n</table>\n<p>5 rows × 22 columns</p>\n</div>"
     },
     "execution_count": 21,
     "metadata": {},
     "output_type": "execute_result"
    }
   ],
   "source": [
    "dataset.head()"
   ],
   "metadata": {
    "collapsed": false,
    "ExecuteTime": {
     "end_time": "2023-12-18T16:51:28.381370620Z",
     "start_time": "2023-12-18T16:51:28.369225893Z"
    }
   },
   "id": "24abc85f59ef8949"
  }
 ],
 "metadata": {
  "kernelspec": {
   "display_name": "Python 3",
   "language": "python",
   "name": "python3"
  },
  "language_info": {
   "codemirror_mode": {
    "name": "ipython",
    "version": 2
   },
   "file_extension": ".py",
   "mimetype": "text/x-python",
   "name": "python",
   "nbconvert_exporter": "python",
   "pygments_lexer": "ipython2",
   "version": "2.7.6"
  }
 },
 "nbformat": 4,
 "nbformat_minor": 5
}
